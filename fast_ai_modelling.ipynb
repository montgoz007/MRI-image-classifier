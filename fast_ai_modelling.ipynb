{
 "cells": [
  {
   "cell_type": "code",
   "execution_count": 46,
   "metadata": {},
   "outputs": [],
   "source": [
    "import pandas as pd\n",
    "import numpy as np\n",
    "import os\n",
    "\n",
    "from fastai.vision import *\n",
    "from fastai.metrics import error_rate, accuracy\n",
    "import warnings\n",
    "warnings.filterwarnings('ignore')\n",
    "\n",
    "path = r'C:\\Users\\steph\\OneDrive\\Documents\\Data\\MRnet\\MRNet-v1.0'\n",
    "\n",
    "#from google.colab import drive\n",
    "#drive.mount('/content/drive')"
   ]
  },
  {
   "cell_type": "markdown",
   "metadata": {},
   "source": [
    "### Labelling the data"
   ]
  },
  {
   "cell_type": "markdown",
   "metadata": {},
   "source": [
    "In order to use the from_folder fast ai function, we need the tructure of the folders to be split into train/test and then into classes.\n",
    "\n",
    "Below we use the csv files id'ing normal, abnormal and if abnormal is this acl or meniscal."
   ]
  },
  {
   "cell_type": "code",
   "execution_count": 47,
   "metadata": {},
   "outputs": [],
   "source": [
    "# Training data labelling\n",
    "# training images with ACL abnormality\n",
    "train_acl = pd.read_csv(fr'{path}\\train-acl.csv', header=None, names=['Case', 'Abnormal'], dtype={'Case': str, 'Abnormal': np.int64})\n",
    "train_acl = train_acl[train_acl['Abnormal']==1]\n",
    "# Training images with Meniscal abnormality\n",
    "train_men = pd.read_csv(fr'{path}\\train-meniscus.csv', header=None, names=['Case', 'Abnormal'], dtype={'Case': str, 'Abnormal': np.int64})\n",
    "train_men = train_men[train_men['Abnormal']==1]\n",
    "# Training images with no abnormality\n",
    "train_norm = pd.read_csv(fr'{path}\\train-abnormal.csv', header=None, names=['Case', 'Abnormal'], dtype={'Case': str, 'Abnormal': np.int64})\n",
    "train_cases = list(train_norm['Case'])\n",
    "train_norm = train_norm[train_norm['Abnormal']==0]\n",
    "\n",
    "# Testing data labelling\n",
    "# testing images with ACL abnormality\n",
    "test_acl = pd.read_csv(fr'{path}\\\\valid-acl.csv', header=None, names=['Case', 'Abnormal'], dtype={'Case': str, 'Abnormal': np.int64})\n",
    "test_acl = test_acl[test_acl['Abnormal']==1]\n",
    "# Testing images with Meniscal abnormality\n",
    "test_men = pd.read_csv(fr'{path}\\\\valid-meniscus.csv', header=None, names=['Case', 'Abnormal'], dtype={'Case': str, 'Abnormal': np.int64})\n",
    "test_men = test_men[test_men['Abnormal']==1]\n",
    "# Testing images with no abnormality\n",
    "test_norm = pd.read_csv(fr'{path}\\\\valid-abnormal.csv', header=None, names=['Case', 'Abnormal'], dtype={'Case': str, 'Abnormal': np.int64})\n",
    "test_cases = list(test_norm['Case'])\n",
    "test_norm = test_norm[test_norm['Abnormal']==0]"
   ]
  },
  {
   "cell_type": "markdown",
   "metadata": {},
   "source": [
    "Now we will use shutil to put the correct images in the correct files in the new structure:"
   ]
  },
  {
   "cell_type": "code",
   "execution_count": 48,
   "metadata": {},
   "outputs": [],
   "source": [
    "import shutil\n",
    "\n",
    "train_path = fr'{path}\\\\train'\n",
    "dir_list = os.listdir(train_path)\n",
    "\n",
    "# Move training files\n",
    "for i in dir_list:\n",
    "    for j in train_cases:\n",
    "        if j in list(train_acl['Case']):\n",
    "            shutil.move(f'{train_path}\\{i}\\\\{j}.npy', f'{train_path}\\{i}\\\\acl_abnorm\\{j}.npy')\n",
    "        elif j in list(train_men['Case']):\n",
    "            shutil.move(f'{train_path}\\{i}\\\\{j}.npy', f'{train_path}\\{i}\\\\men_abnorm\\{j}.npy')\n",
    "        else:\n",
    "            shutil.move(f'{train_path}\\{i}\\\\{j}.npy', f'{train_path}\\{i}\\\\norm\\{j}.npy')\n",
    "\n",
    "test_path = fr'{path}\\\\valid'\n",
    "# Move testing files\n",
    "for i in dir_list:\n",
    "    for j in test_cases:\n",
    "        if j in list(test_acl['Case']):\n",
    "            shutil.move(f'{test_path}\\{i}\\\\{j}.npy', f'{test_path}\\{i}\\\\acl_abnorm\\{j}.npy')\n",
    "        elif j in list(test_men['Case']):\n",
    "            shutil.move(f'{test_path}\\{i}\\\\{j}.npy', f'{test_path}\\{i}\\\\men_abnorm\\{j}.npy')\n",
    "        else:\n",
    "            shutil.move(f'{test_path}\\{i}\\\\{j}.npy', f'{test_path}\\{i}\\\\norm\\{j}.npy')"
   ]
  },
  {
   "cell_type": "code",
   "execution_count": 50,
   "metadata": {},
   "outputs": [
    {
     "data": {
      "text/plain": [
       "['train',\n",
       " 'train-abnormal.csv',\n",
       " 'train-acl.csv',\n",
       " 'train-meniscus.csv',\n",
       " 'valid',\n",
       " 'valid-abnormal.csv',\n",
       " 'valid-acl.csv',\n",
       " 'valid-meniscus.csv']"
      ]
     },
     "execution_count": 50,
     "metadata": {},
     "output_type": "execute_result"
    }
   ],
   "source": [
    "os.listdir(path)"
   ]
  },
  {
   "cell_type": "code",
   "execution_count": null,
   "metadata": {},
   "outputs": [],
   "source": [
    "for i in "
   ]
  }
 ],
 "metadata": {
  "interpreter": {
   "hash": "6d529639a3043f15ea50218449268f84f9ab6e6d9f9b2bbc7e080e4513256e12"
  },
  "kernelspec": {
   "display_name": "Python 3.7.10 64-bit ('montVenv': conda)",
   "language": "python",
   "name": "python3"
  },
  "language_info": {
   "codemirror_mode": {
    "name": "ipython",
    "version": 3
   },
   "file_extension": ".py",
   "mimetype": "text/x-python",
   "name": "python",
   "nbconvert_exporter": "python",
   "pygments_lexer": "ipython3",
   "version": "3.7.10"
  },
  "orig_nbformat": 4
 },
 "nbformat": 4,
 "nbformat_minor": 2
}
