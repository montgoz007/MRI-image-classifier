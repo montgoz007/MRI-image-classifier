{
 "cells": [
  {
   "cell_type": "code",
   "execution_count": 1,
   "metadata": {},
   "outputs": [],
   "source": [
    "import pandas as pd"
   ]
  },
  {
   "cell_type": "code",
   "execution_count": null,
   "metadata": {},
   "outputs": [],
   "source": [
    "import json\n",
    "import os \n",
    "from pprint import pprint\n",
    "import requests\n",
    "\n",
    "'''\n",
    "This sample makes a call to the Bing Web Search API with a query and returns relevant web search.\n",
    "Documentation: https://docs.microsoft.com/en-us/bing/search-apis/bing-web-search/overview\n",
    "'''\n",
    "\n",
    "# Add your Bing Search V7 subscription key and endpoint to your environment variables.\n",
    "subscription_key = os.environ['BING_SEARCH_V7_SUBSCRIPTION_KEY']\n",
    "endpoint = os.environ['BING_SEARCH_V7_ENDPOINT'] + \"/bing/v7.0/search\"\n",
    "\n",
    "# Query term(s) to search for. \n",
    "query = \"Microsoft\"\n",
    "\n",
    "# Construct a request\n",
    "mkt = 'en-US'\n",
    "params = { 'q': query, 'mkt': mkt }\n",
    "headers = { 'Ocp-Apim-Subscription-Key': subscription_key }\n",
    "\n",
    "# Call the API\n",
    "try:\n",
    "    response = requests.get(endpoint, headers=headers, params=params)\n",
    "    response.raise_for_status()\n",
    "\n",
    "    print(\"Headers:\")\n",
    "    print(response.headers)\n",
    "\n",
    "    print(\"JSON Response:\")\n",
    "    pprint(response.json())\n",
    "except Exception as ex:\n",
    "    raise ex"
   ]
  }
 ],
 "metadata": {
  "interpreter": {
   "hash": "6c2125a2d7c73b85971afb7b6704f7396e839550de6e45e7841296e88c273f24"
  },
  "kernelspec": {
   "display_name": "Python 3.7.11 ('montVenv')",
   "language": "python",
   "name": "python3"
  },
  "language_info": {
   "codemirror_mode": {
    "name": "ipython",
    "version": 3
   },
   "file_extension": ".py",
   "mimetype": "text/x-python",
   "name": "python",
   "nbconvert_exporter": "python",
   "pygments_lexer": "ipython3",
   "version": "3.8.12"
  },
  "orig_nbformat": 4
 },
 "nbformat": 4,
 "nbformat_minor": 2
}
